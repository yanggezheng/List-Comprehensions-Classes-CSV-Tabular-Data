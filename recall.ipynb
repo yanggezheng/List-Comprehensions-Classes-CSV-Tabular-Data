{
 "cells": [
  {
   "cell_type": "markdown",
   "id": "6857504c-31f0-41dc-9247-2c0316a8fc50",
   "metadata": {},
   "source": [
    "# Homework 02\n",
    "\n",
    "# Table of Contents\n",
    "\n",
    "* [first lambda](#first-lambda)\n",
    "* [second lambda](#second-lambda)"
   ]
  },
  {
   "cell_type": "code",
   "execution_count": 20,
   "id": "ef325df0-23aa-4a67-9056-b1271767446b",
   "metadata": {},
   "outputs": [],
   "source": [
    "import csv\n",
    "with open(\"recalls-truncated.csv\") as f:\n",
    "    reader = csv.reader(f)\n",
    "    headers = next(reader)"
   ]
  },
  {
   "cell_type": "code",
   "execution_count": 21,
   "id": "f5ec8bf0",
   "metadata": {},
   "outputs": [
    {
     "data": {
      "text/plain": [
       "[('Triple E Recreational Vehicles', 341),\n",
       " ('Volvo Car USA, LLC', 74),\n",
       " ('Volkswagen Group of America, Inc.', 1042),\n",
       " ('Indian Motorcycle Company', 4653),\n",
       " ('Lion Electric Company', 13),\n",
       " ('Mercedes-Benz USA, LLC', 323963),\n",
       " ('Ford Motor Company', 101001),\n",
       " ('Mercedes-Benz USA, LLC', 123696),\n",
       " ('Shadow Trailer, LLC', 12),\n",
       " ('Honda (American Honda Motor Co.)', 19),\n",
       " ('Chrysler (FCA US, LLC)', 38),\n",
       " ('Kibbi, LLC', 292),\n",
       " ('REV Recreation Group', 1540),\n",
       " ('Volkswagen Group of America, Inc.', 37558),\n",
       " ('BMW of North America, LLC', 14086),\n",
       " ('New Flyer of America, Inc.', 746),\n",
       " ('BMW of North America, LLC', 4),\n",
       " ('Mercedes-Benz USA, LLC', 11),\n",
       " ('Hyundai Motor America', 853),\n",
       " ('Lightning eMotors Inc.', 27),\n",
       " ('Mercedes-Benz USA, LLC', 1),\n",
       " ('Mercedes-Benz USA, LLC', 69),\n",
       " ('PACCAR Incorporated', 2565),\n",
       " ('Mercedes-Benz USA, LLC', 278),\n",
       " ('PACCAR Incorporated', 15658),\n",
       " ('Airstream, Inc.', 1992),\n",
       " ('General Motors, LLC', 111242),\n",
       " ('Airstream, Inc.', 200),\n",
       " ('General Motors, LLC', 9),\n",
       " ('Jayco, Inc.', 37),\n",
       " ('General Motors, LLC', 2108),\n",
       " ('Ford Motor Company', 11074),\n",
       " ('Polestar Automotive USA, Inc.', 66),\n",
       " ('Ford Motor Company', 1226),\n",
       " ('Volkswagen Group of America, Inc.', 96),\n",
       " ('Easymile Inc.', 4),\n",
       " ('Jayco, Inc.', 90),\n",
       " ('Porsche Cars North America, Inc.', 28),\n",
       " ('Forest River, Inc.', 262),\n",
       " ('Daimler Trucks North America, LLC', 49),\n",
       " ('Volvo Bus Corporation', 20),\n",
       " ('Prevost Car (US) Inc.', 22),\n",
       " ('East Manufacturing Corp.', 17),\n",
       " ('Braun Ambulances', 11),\n",
       " ('Braun Ambulances', 1321),\n",
       " ('Kawasaki Motors Corp., U.S.A.', 3172),\n",
       " ('Daimler Trucks North America, LLC', 23),\n",
       " ('Kawasaki Motors Corp., U.S.A.', 200),\n",
       " ('McLaren Automotive Incorporated', 164),\n",
       " ('Subaru of America, Inc.', 271694),\n",
       " ('Hyundai Translead', 39),\n",
       " ('Navistar, Inc.', 6948),\n",
       " ('Navistar, Inc.', 46),\n",
       " ('Kia America, Inc.', 939),\n",
       " ('General Motors, LLC', 740108),\n",
       " ('Chrysler (FCA US, LLC)', 1224078),\n",
       " ('Volkswagen Group of America, Inc.', 297),\n",
       " ('Nova Bus (US) Inc.', 519),\n",
       " ('Porsche Cars North America, Inc.', 53),\n",
       " ('Volvo Trucks North America', 412),\n",
       " ('Kia America, Inc.', 872),\n",
       " ('Hino Motors Sales U.S.A., Inc.', 970),\n",
       " ('KTM North America, Inc.', 1040),\n",
       " ('Old School Trailers, LLC', 16),\n",
       " ('Tesla, Inc.', 9),\n",
       " ('Terex South Dakota, Inc.', 431),\n",
       " ('Entegra Coach', 394),\n",
       " ('Newmar Corporation', 30),\n",
       " ('Pierce Manufacturing', 17),\n",
       " ('Terex South Dakota, Inc.', 40),\n",
       " ('Chinook Motor Coach, LLC', 10),\n",
       " ('Proterra Operating Company, Inc.', 18),\n",
       " ('Mazda North American Operations', 226),\n",
       " ('Xos, Inc.', 260),\n",
       " ('Holiday House, LLC', 26),\n",
       " ('Ford Motor Company', 18808),\n",
       " ('Winnebago Towable', 63),\n",
       " ('Winnebago Towable', 6553),\n",
       " ('Alexis Fire Equipment Company', 20),\n",
       " ('Kia America, Inc.', 76918),\n",
       " ('General Motors, LLC', 5),\n",
       " ('Chrysler (FCA US, LLC)', 62909),\n",
       " ('Nissan North America, Inc.', 125215),\n",
       " ('Navistar, Inc.', 196),\n",
       " ('Navistar, Inc.', 25822),\n",
       " ('Navistar, Inc.', 5645),\n",
       " ('General Motors, LLC', 5861),\n",
       " ('Honda (American Honda Motor Co.)', 117445),\n",
       " ('General Motors, LLC', 10194),\n",
       " ('Chrysler (FCA US, LLC)', 5834),\n",
       " ('Marion Body Works Inc.', 6),\n",
       " ('Daimler Trucks North America, LLC', 135),\n",
       " ('Daimler Trucks North America, LLC', 8),\n",
       " ('Aluminum Trailer Company (ATC)', 21),\n",
       " ('Winnebago Industries, Inc.', 4521),\n",
       " ('Volkswagen Group of America, Inc.', 50883),\n",
       " ('Genuine Scooters, LLC', 817),\n",
       " ('BMW of North America, LLC', 169),\n",
       " ('Shyft Group', 153),\n",
       " ('Coach and Equipment Mfg. Corp.', 353),\n",
       " ('Ford Motor Company', 521746),\n",
       " ('E-One Incorporated', 8),\n",
       " ('Gulf States Toyota, Inc.', 157),\n",
       " ('Shyft Group', 206),\n",
       " ('Proterra Operating Company, Inc.', 446),\n",
       " ('Midwest Fire Equipment & Repair Company', 11),\n",
       " ('Navistar, Inc.', 95),\n",
       " ('Navistar, Inc.', 149),\n",
       " ('Lamborghini (Automobili Lamborghini)', 9),\n",
       " ('Shyft Group', 543),\n",
       " ('Volvo Bus Corporation', 14),\n",
       " ('Nova Bus (US) Inc.', 827),\n",
       " ('Tesla, Inc.', 29348),\n",
       " ('Tesla, Inc.', 321628),\n",
       " ('Ford Motor Company', 474561),\n",
       " ('Daimler Trucks North America, LLC', 20),\n",
       " ('Kia America, Inc.', 27030),\n",
       " ('Indian Motorcycle Company', 7812),\n",
       " ('Navistar, Inc.', 10),\n",
       " ('Subaru of America, Inc.', 16),\n",
       " ('Shyft Group', 34),\n",
       " ('Chrysler (FCA US, LLC)', 250079),\n",
       " ('Volkswagen Group of America, Inc.', 393),\n",
       " ('Volkswagen Group of America, Inc.', 5),\n",
       " ('REV Recreation Group', 687),\n",
       " ('Proterra Operating Company, Inc.', 3),\n",
       " ('Forest River, Inc.', 2707),\n",
       " ('Ford Motor Company', 47046),\n",
       " ('General Motors, LLC', 338735),\n",
       " ('Corp. Micro Bird, Inc.', 777),\n",
       " ('Quality Trailers Ohio, Inc.', 534),\n",
       " ('Volkswagen Group of America, Inc.', 55),\n",
       " ('Volkswagen Group of America, Inc.', 2607),\n",
       " ('Brenner Tank, LLC', 3),\n",
       " ('Bulk Tank International S. de R.L. de C.', 2),\n",
       " ('BMW of North America, LLC', 47),\n",
       " ('Daimler Trucks North America, LLC', 219390),\n",
       " ('Tesla, Inc.', 40168),\n",
       " ('Forest River, Inc.', 2018),\n",
       " ('Tiffin Motorhomes, Inc.', 295),\n",
       " ('Hyundai Motor America', 14933),\n",
       " ('Volkswagen Group of America, Inc.', 224704),\n",
       " ('Corp. Micro Bird, Inc.', 99),\n",
       " ('Corp. Micro Bird, Inc.', 1),\n",
       " ('Hyundai Motor America', 44396),\n",
       " ('Chrysler (FCA US, LLC)', 44212),\n",
       " ('Pierce Manufacturing', 299),\n",
       " ('Sunset Park & RV Inc.', 867),\n",
       " ('Lamborghini (Automobili Lamborghini)', 48),\n",
       " ('Volkswagen Group of America, Inc.', 6076),\n",
       " ('Volkswagen Group of America, Inc.', 33),\n",
       " ('Porsche Cars North America, Inc.', 15),\n",
       " ('Kia America, Inc.', 71704),\n",
       " ('Gillig, LLC', 388),\n",
       " ('Bombardier Recreational Products, Inc.', 46119),\n",
       " ('Altec Industries, Inc.', 71),\n",
       " ('Winnebago Industries, Inc.', 4616),\n",
       " ('Tesla, Inc.', 24064),\n",
       " ('Autocar, LLC', 2136),\n",
       " ('Daimler Vans USA, LLC', 124305),\n",
       " ('Shyft Group', 4),\n",
       " ('Ford Motor Company', 26),\n",
       " ('Ford Motor Company', 31339),\n",
       " ('Ford Motor Company', 596),\n",
       " ('Volvo Car USA, LLC', 15674),\n",
       " ('Orange EV', 106),\n",
       " ('E-One Incorporated', 23),\n",
       " ('Innovative Specialties LLC', 630),\n",
       " ('Kalmar Solutions, LLC', 9),\n",
       " ('Thor Motor Coach', 69),\n",
       " ('Shyft Group', 540),\n",
       " ('PACCAR Incorporated', 79),\n",
       " ('Harley-Davidson Motor Company', 199419),\n",
       " ('PACCAR Incorporated', 74730),\n",
       " ('Precision Industries, Inc.', 2),\n",
       " ('Spartan Fire, LLC', 225),\n",
       " ('HD Trailer MFG. LLC', 15),\n",
       " ('Jayco, Inc.', 2748),\n",
       " ('Starcraft RV', 923),\n",
       " ('Highland Ridge RV', 1907),\n",
       " ('Shyft Group', 15),\n",
       " ('Storyteller Overland', 58),\n",
       " ('Chrysler (FCA US, LLC)', 2802),\n",
       " ('Chrysler (FCA US, LLC)', 60413),\n",
       " ('General Motors, LLC', 797),\n",
       " ('Jayco, Inc.', 42),\n",
       " ('Nissan North America, Inc.', 27344),\n",
       " ('Chrysler (FCA US, LLC)', 13722),\n",
       " ('Volkswagen Group of America, Inc.', 5),\n",
       " ('Blue Bird Body Company', 20),\n",
       " ('Daimler Trucks North America, LLC', 17613),\n",
       " ('Alamo Group Inc.', 3),\n",
       " ('Chrysler (FCA US, LLC)', 26961),\n",
       " ('Kia America, Inc.', 69038),\n",
       " ('Fontaine Modification', 56),\n",
       " ('Wabash National Corporation', 740),\n",
       " ('KZRV, L.P.', 42),\n",
       " ('Riverside RV', 826),\n",
       " ('Forest River, Inc.', 25),\n",
       " ('BMW of North America, LLC', 951),\n",
       " ('Volkswagen Group of America, Inc.', 74067),\n",
       " ('Newmar Corporation', 32),\n",
       " ('Newmar Corporation', 179),\n",
       " ('BMW of North America, LLC', 1296),\n",
       " ('Shyft Group', 451),\n",
       " ('Harley-Davidson Motor Company', 862),\n",
       " ('Hyundai Motor America', 56148),\n",
       " ('Rivian Automotive, LLC', 12212),\n",
       " ('Bentley Motors, Inc.', 3134),\n",
       " ('Blue Bird Body Company', 2559),\n",
       " ('Blue Bird Body Company', 25),\n",
       " ('Volkswagen Group of America, Inc.', 170296),\n",
       " ('BMW of North America, LLC', 1),\n",
       " ('Forest River, Inc.', 962),\n",
       " ('Blue Bird Body Company', 66),\n",
       " ('Contract Manufacturer, LLC', 142),\n",
       " ('East Texas Trailer', 3),\n",
       " ('Mercedes-Benz USA, LLC', 19968),\n",
       " ('Forest River, Inc.', 5168),\n",
       " ('Keystone RV Company', 721),\n",
       " ('Great Dane Trailers', 2439),\n",
       " ('Braun Ambulances', 1240),\n",
       " ('Ford Motor Company', 26910),\n",
       " ('Mercedes-Benz USA, LLC', 59574),\n",
       " ('Ford Motor Company', 11239),\n",
       " ('Chrysler (FCA US, LLC)', 83453),\n",
       " ('BMW of North America, LLC', 3315),\n",
       " ('Lucid USA, Inc.', 571),\n",
       " ('Keystone RV Company', 9678),\n",
       " ('General Motors, LLC', 6895),\n",
       " ('BMW of North America, LLC', 2),\n",
       " ('Daimler Trucks North America, LLC', 36),\n",
       " ('Lightning eMotors Inc.', 226),\n",
       " ('Volkswagen Group of America, Inc.', 555),\n",
       " ('Seagrave Fire Apparatus, LLC', 9),\n",
       " ('Doosan Portable Power', 702),\n",
       " ('McNeilus Truck & Manufacturing, Inc.', 1140),\n",
       " ('Corp. Micro Bird, Inc.', 45),\n",
       " ('Corp. Micro Bird, Inc.', 2753),\n",
       " ('General Motors, LLC', 186),\n",
       " ('General Motors, LLC', 24),\n",
       " ('Osage Industries, Inc.', 14),\n",
       " ('General Motors, LLC', 95231),\n",
       " ('Navistar, Inc.', 451),\n",
       " ('Subaru of America, Inc.', 42),\n",
       " ('Volvo Trucks North America', 8),\n",
       " ('Mack Trucks, Inc.', 1),\n",
       " ('Volkswagen Group of America, Inc.', 8038),\n",
       " ('Ducati North America', 1586),\n",
       " ('Liquid Transport, Inc', 3),\n",
       " ('Collins Bus Corporation', 3514),\n",
       " ('Prevost Car (US) Inc.', 255),\n",
       " ('Tesla, Inc.', 1096762),\n",
       " ('Volkswagen Group of America, Inc.', 4),\n",
       " ('Kia America, Inc.', 70887),\n",
       " ('Winnebago Industries, Inc.', 5084),\n",
       " ('Winnebago Industries, Inc.', 6540),\n",
       " ('Forest River, Inc.', 284),\n",
       " ('Autocar, LLC', 236),\n",
       " ('Corp. Micro Bird, Inc.', 7),\n",
       " ('Navistar, Inc.', 7918),\n",
       " ('Nissan North America, Inc.', 20040),\n",
       " ('Excellance, Inc', 3),\n",
       " ('Volkswagen Group of America, Inc.', 2),\n",
       " ('Ford Motor Company', 69),\n",
       " ('Ford Motor Company', 74),\n",
       " ('Nikola Corporation', 93),\n",
       " ('Daimler Trucks North America, LLC', 1259),\n",
       " ('Ford Motor Company', 86050),\n",
       " ('BMW of North America, LLC', 16),\n",
       " ('Mercedes-Benz USA, LLC', 4),\n",
       " ('Spartan Fire, LLC', 8),\n",
       " ('Daimler Trucks North America, LLC', 200),\n",
       " ('Farber Specialty Vehicles', 1),\n",
       " ('Mercedes-Benz USA, LLC', 161000),\n",
       " ('Mercedes-Benz USA, LLC', 6752),\n",
       " ('Volkswagen Group of America, Inc.', 13004),\n",
       " ('BMW of North America, LLC', 252),\n",
       " ('Terex South Dakota, Inc.', 194),\n",
       " ('Ford Motor Company', 1519),\n",
       " ('BMW of North America, LLC', 246),\n",
       " ('Nissan North America, Inc.', 197230),\n",
       " ('Keystone RV Company', 536),\n",
       " ('Alamo Group Inc.', 150),\n",
       " ('Forest River, Inc.', 49),\n",
       " ('Vermeer Manufacturing Company', 45),\n",
       " ('Honda (American Honda Motor Co.)', 1561),\n",
       " ('Toyota Motor Engineering & Manufacturing', 83725),\n",
       " ('Nissan North America, Inc.', 8391),\n",
       " ('Jayco, Inc.', 245),\n",
       " ('Jayco, Inc.', 856),\n",
       " ('Nissan North America, Inc.', 190),\n",
       " ('Jayco, Inc.', 45),\n",
       " ('Volkswagen Group of America, Inc.', 3184),\n",
       " ('Shyft Group', 2139),\n",
       " ('Porsche Cars North America, Inc.', 222858),\n",
       " ('REV Recreation Group', 4395),\n",
       " ('Volkswagen Group of America, Inc.', 4117),\n",
       " ('Daimler Trucks North America, LLC', 3498),\n",
       " ('Roadtrek Inc.', 36),\n",
       " ('Wayfarer', 9),\n",
       " ('DRV Suites', 491),\n",
       " ('Kia America, Inc.', 19701),\n",
       " ('Ford Motor Company', 198482),\n",
       " ('Ford Motor Company', 277040),\n",
       " ('Hino Motors Sales U.S.A., Inc.', 7),\n",
       " ('Forest River, Inc.', 6),\n",
       " ('Chrysler (FCA US, LLC)', 4907),\n",
       " ('Ford Motor Company', 1175),\n",
       " ('Dennis Eagle Inc.', 25),\n",
       " ('Rivian Automotive, LLC', 207),\n",
       " ('Chrysler (FCA US, LLC)', 7895),\n",
       " ('General Motors, LLC', 120688)]"
      ]
     },
     "execution_count": 21,
     "metadata": {},
     "output_type": "execute_result"
    }
   ],
   "source": [
    "with open(\"recalls-truncated.csv\") as f:\n",
    "    reader = csv.reader(f)\n",
    "    headers = next(reader)\n",
    "    data = [(row[1], int(row[4])) for row in reader if row[3] == 'Vehicle']\n",
    "data"
   ]
  },
  {
   "cell_type": "markdown",
   "id": "298028bd",
   "metadata": {},
   "source": [
    "## first lambda"
   ]
  },
  {
   "cell_type": "code",
   "execution_count": 22,
   "id": "5e0a2ead",
   "metadata": {},
   "outputs": [],
   "source": [
    "highest = max(data, key=lambda x: x[1])\n",
    "lowest = min(data, key=lambda x: x[1])"
   ]
  },
  {
   "cell_type": "code",
   "execution_count": 23,
   "id": "c22e7a3e",
   "metadata": {},
   "outputs": [
    {
     "name": "stdout",
     "output_type": "stream",
     "text": [
      "('Mercedes-Benz USA, LLC', 1) ('Chrysler (FCA US, LLC)', 1224078)\n"
     ]
    }
   ],
   "source": [
    "print(lowest, highest)"
   ]
  },
  {
   "cell_type": "code",
   "execution_count": 24,
   "id": "c663043d",
   "metadata": {},
   "outputs": [],
   "source": [
    "import nelta as nt"
   ]
  },
  {
   "cell_type": "code",
   "execution_count": 25,
   "id": "e1bad022",
   "metadata": {},
   "outputs": [
    {
     "data": {
      "text/plain": [
       "(350, 5)"
      ]
     },
     "execution_count": 25,
     "metadata": {},
     "output_type": "execute_result"
    }
   ],
   "source": [
    "t = nt.read_csv('recalls-truncated.csv')\n",
    "t.shape()"
   ]
  },
  {
   "cell_type": "code",
   "execution_count": 26,
   "id": "c2964a6a",
   "metadata": {},
   "outputs": [
    {
     "data": {
      "text/plain": [
       "['Date', 'Manufacturer', 'Subject', 'Recall Type', 'Potentially Affected']"
      ]
     },
     "execution_count": 26,
     "metadata": {},
     "output_type": "execute_result"
    }
   ],
   "source": [
    "t.columns"
   ]
  },
  {
   "cell_type": "code",
   "execution_count": 27,
   "id": "45d7fdd0",
   "metadata": {},
   "outputs": [
    {
     "data": {
      "text/plain": [
       "             Date   Manufacturer Subject  Recall TypePotentially Affected\n",
       "    0     01/06/2023Triple E Recreational VehiclesBattery Disconnect Switch May Short Vehicle    341.0   \n",
       "    1     01/05/2023Volvo Car USA, LLCSteering Wheel May Lock Up Vehicle     74.0   \n",
       "    2     12/29/2022Volkswagen Group of America, Inc.12-Volt Battery Cable May Short Circuit Vehicle    1042.0  \n",
       "    3     12/29/2022Indian Motorcycle CompanyKickstand May Not Retract Properly/FMVSS 123 Vehicle    4653.0  "
      ]
     },
     "execution_count": 27,
     "metadata": {},
     "output_type": "execute_result"
    }
   ],
   "source": [
    "t.head(4)"
   ]
  },
  {
   "cell_type": "code",
   "execution_count": 28,
   "id": "e1ee4d59",
   "metadata": {},
   "outputs": [
    {
     "data": {
      "text/plain": [
       "             Date   Manufacturer Subject  Recall TypePotentially Affected\n",
       "   346    08/25/2022Rivian Automotive, LLCImproperly Secured Front Seat Belt Anchor Vehicle    207.0   \n",
       "   347    08/25/2022Chrysler (FCA US, LLC)Rearview Camera Image May Not Display/FMVSS 111 Vehicle    7895.0  \n",
       "   348    08/25/2022General Motors, LLCSecondary Hood Latch Corrosion Vehicle   120688.0 \n",
       "   349    08/25/2022PT. Elangperdana Tyre IndustryTire Sidewall Separation/ FMVSS 139   Tire    31500.0  "
      ]
     },
     "execution_count": 28,
     "metadata": {},
     "output_type": "execute_result"
    }
   ],
   "source": [
    "last_four = t.tail(4)\n",
    "last_four"
   ]
  },
  {
   "cell_type": "code",
   "execution_count": 29,
   "id": "c7669ba0",
   "metadata": {},
   "outputs": [
    {
     "data": {
      "text/plain": [
       "346       Improperly Secured Front Seat Belt Anchor\n",
       "347 Rearview Camera Image May Not Display/FMVSS 111\n",
       "348                  Secondary Hood Latch Corrosion\n",
       "349             Tire Sidewall Separation/ FMVSS 139"
      ]
     },
     "execution_count": 29,
     "metadata": {},
     "output_type": "execute_result"
    }
   ],
   "source": [
    "ll = nt.LabeledList(last_four['Subject'], [346 + i for i in range(4)])\n",
    "ll"
   ]
  },
  {
   "cell_type": "code",
   "execution_count": 30,
   "id": "dd258662",
   "metadata": {},
   "outputs": [
    {
     "name": "stdout",
     "output_type": "stream",
     "text": [
      "Improperly Secured Front Seat Belt Anchor\n",
      "Rearview Camera Image May Not Display/FMVSS 111\n",
      "Secondary Hood Latch Corrosion\n",
      "Tire Sidewall Separation/ FMVSS 139\n"
     ]
    }
   ],
   "source": [
    "for val in ll:\n",
    "    print(val)"
   ]
  },
  {
   "cell_type": "code",
   "execution_count": 31,
   "id": "26719ef8",
   "metadata": {},
   "outputs": [
    {
     "data": {
      "text/plain": [
       "          Manufacturer Subject  \n",
       "   346    Rivian Automotive, LLCImproperly Secured Front Seat Belt Anchor\n",
       "   347    Chrysler (FCA US, LLC)Rearview Camera Image May Not Display/FMVSS 111\n",
       "   348    General Motors, LLCSecondary Hood Latch Corrosion\n",
       "   349    PT. Elangperdana Tyre IndustryTire Sidewall Separation/ FMVSS 139"
      ]
     },
     "execution_count": 31,
     "metadata": {},
     "output_type": "execute_result"
    }
   ],
   "source": [
    "last_four[['Manufacturer', 'Subject']]"
   ]
  },
  {
   "cell_type": "markdown",
   "id": "4c2c15e6",
   "metadata": {},
   "source": [
    "## second lambda"
   ]
  },
  {
   "cell_type": "code",
   "execution_count": 32,
   "id": "67323ed7",
   "metadata": {},
   "outputs": [
    {
     "data": {
      "text/plain": [
       "313"
      ]
     },
     "execution_count": 32,
     "metadata": {},
     "output_type": "execute_result"
    }
   ],
   "source": [
    "vehicle = t['Recall Type']\n",
    "vehicle = list(map(lambda x: x == 'Vehicle', vehicle))\n",
    "vehicles = t[vehicle]\n",
    "len(vehicles.index)"
   ]
  },
  {
   "cell_type": "code",
   "execution_count": 33,
   "id": "a07654f5",
   "metadata": {},
   "outputs": [
    {
     "data": {
      "text/plain": [
       "  0 False\n",
       "  1 False\n",
       "  2 False\n",
       "  3 False\n",
       "  5 False\n",
       "  7 False\n",
       "  8 False\n",
       "  9 False\n",
       " 10 False\n",
       " 11 False\n",
       " 12 False\n",
       " 13 False\n",
       " 14 False\n",
       " 15 False\n",
       " 16 False\n",
       " 17 False\n",
       " 18 False\n",
       " 19 False\n",
       " 20 False\n",
       " 21 False\n",
       " 22 False\n",
       " 23 False\n",
       " 24 False\n",
       " 25 False\n",
       " 26 False\n",
       " 27 False\n",
       " 28 False\n",
       " 30 False\n",
       " 31 False\n",
       " 33 False\n",
       " 34 False\n",
       " 35 False\n",
       " 36 False\n",
       " 37 False\n",
       " 38 False\n",
       " 40 False\n",
       " 41 False\n",
       " 42 False\n",
       " 43 False\n",
       " 44 False\n",
       " 45 False\n",
       " 46 False\n",
       " 47 False\n",
       " 48 False\n",
       " 49 False\n",
       " 50 False\n",
       " 51 False\n",
       " 52 False\n",
       " 53 False\n",
       " 54 False\n",
       " 55 False\n",
       " 56 False\n",
       " 57 False\n",
       " 58 False\n",
       " 60  True\n",
       " 61  True\n",
       " 62 False\n",
       " 63 False\n",
       " 64 False\n",
       " 65 False\n",
       " 66 False\n",
       " 67 False\n",
       " 68 False\n",
       " 69 False\n",
       " 71 False\n",
       " 73 False\n",
       " 74 False\n",
       " 75 False\n",
       " 76 False\n",
       " 77 False\n",
       " 78 False\n",
       " 79 False\n",
       " 80 False\n",
       " 81 False\n",
       " 82 False\n",
       " 83 False\n",
       " 84 False\n",
       " 85 False\n",
       " 86 False\n",
       " 89 False\n",
       " 90 False\n",
       " 91 False\n",
       " 92 False\n",
       " 93 False\n",
       " 94 False\n",
       " 95 False\n",
       " 96 False\n",
       " 97 False\n",
       " 98 False\n",
       " 99 False\n",
       "100 False\n",
       "101 False\n",
       "102 False\n",
       "103 False\n",
       "104 False\n",
       "105 False\n",
       "106 False\n",
       "107 False\n",
       "108 False\n",
       "109 False\n",
       "110  True\n",
       "111 False\n",
       "112 False\n",
       "113 False\n",
       "114 False\n",
       "115 False\n",
       "116 False\n",
       "117 False\n",
       "118 False\n",
       "120 False\n",
       "121 False\n",
       "122 False\n",
       "123 False\n",
       "124 False\n",
       "125 False\n",
       "126 False\n",
       "127 False\n",
       "128 False\n",
       "129 False\n",
       "131 False\n",
       "132 False\n",
       "133 False\n",
       "134 False\n",
       "135 False\n",
       "136 False\n",
       "138 False\n",
       "139 False\n",
       "141 False\n",
       "142 False\n",
       "143 False\n",
       "144 False\n",
       "146 False\n",
       "147 False\n",
       "148 False\n",
       "149 False\n",
       "150 False\n",
       "151 False\n",
       "153 False\n",
       "154 False\n",
       "155 False\n",
       "156 False\n",
       "157 False\n",
       "158 False\n",
       "159 False\n",
       "161 False\n",
       "162 False\n",
       "163 False\n",
       "164 False\n",
       "165 False\n",
       "166 False\n",
       "167 False\n",
       "168 False\n",
       "169 False\n",
       "170 False\n",
       "171 False\n",
       "173 False\n",
       "174 False\n",
       "175 False\n",
       "176 False\n",
       "177 False\n",
       "179 False\n",
       "180 False\n",
       "181 False\n",
       "182 False\n",
       "183 False\n",
       "184 False\n",
       "185 False\n",
       "186 False\n",
       "187 False\n",
       "188 False\n",
       "189 False\n",
       "191 False\n",
       "192 False\n",
       "193 False\n",
       "194 False\n",
       "195 False\n",
       "196 False\n",
       "197 False\n",
       "198 False\n",
       "199 False\n",
       "201 False\n",
       "202 False\n",
       "203 False\n",
       "205 False\n",
       "206 False\n",
       "207 False\n",
       "208 False\n",
       "209 False\n",
       "210 False\n",
       "211 False\n",
       "212 False\n",
       "213 False\n",
       "215 False\n",
       "216 False\n",
       "217 False\n",
       "218 False\n",
       "219 False\n",
       "220 False\n",
       "221 False\n",
       "222 False\n",
       "223 False\n",
       "224 False\n",
       "225 False\n",
       "226 False\n",
       "227 False\n",
       "228 False\n",
       "229 False\n",
       "230 False\n",
       "231 False\n",
       "232 False\n",
       "233 False\n",
       "234 False\n",
       "235 False\n",
       "236 False\n",
       "237 False\n",
       "238 False\n",
       "239 False\n",
       "240 False\n",
       "241 False\n",
       "242 False\n",
       "243 False\n",
       "244 False\n",
       "245 False\n",
       "246 False\n",
       "248 False\n",
       "250 False\n",
       "251 False\n",
       "252 False\n",
       "253 False\n",
       "254 False\n",
       "256 False\n",
       "257 False\n",
       "258 False\n",
       "261 False\n",
       "262 False\n",
       "263 False\n",
       "264 False\n",
       "265 False\n",
       "266 False\n",
       "267 False\n",
       "268 False\n",
       "269 False\n",
       "270 False\n",
       "271 False\n",
       "272 False\n",
       "274 False\n",
       "275 False\n",
       "276 False\n",
       "279 False\n",
       "281 False\n",
       "282 False\n",
       "283 False\n",
       "284  True\n",
       "285 False\n",
       "286 False\n",
       "287 False\n",
       "288 False\n",
       "289 False\n",
       "290 False\n",
       "291 False\n",
       "292 False\n",
       "293 False\n",
       "294 False\n",
       "295 False\n",
       "296 False\n",
       "297 False\n",
       "298 False\n",
       "301 False\n",
       "302 False\n",
       "303 False\n",
       "304 False\n",
       "305 False\n",
       "306 False\n",
       "307 False\n",
       "308 False\n",
       "309 False\n",
       "310 False\n",
       "311 False\n",
       "312 False\n",
       "313 False\n",
       "314 False\n",
       "315 False\n",
       "316 False\n",
       "317 False\n",
       "318 False\n",
       "319 False\n",
       "320 False\n",
       "321 False\n",
       "322 False\n",
       "323 False\n",
       "324 False\n",
       "325 False\n",
       "326 False\n",
       "327 False\n",
       "328 False\n",
       "329 False\n",
       "330 False\n",
       "332 False\n",
       "333 False\n",
       "334 False\n",
       "335 False\n",
       "336 False\n",
       "337 False\n",
       "339 False\n",
       "340 False\n",
       "341 False\n",
       "342 False\n",
       "343 False\n",
       "344 False\n",
       "345 False\n",
       "346 False\n",
       "347 False\n",
       "348 False"
      ]
     },
     "execution_count": 33,
     "metadata": {},
     "output_type": "execute_result"
    }
   ],
   "source": [
    "my_filter = vehicles['Potentially Affected']>500000\n",
    "my_filter"
   ]
  },
  {
   "cell_type": "code",
   "execution_count": 34,
   "id": "8a25c7d4",
   "metadata": {},
   "outputs": [
    {
     "data": {
      "text/plain": [
       "nelta.LabeledList"
      ]
     },
     "execution_count": 34,
     "metadata": {},
     "output_type": "execute_result"
    }
   ],
   "source": [
    "type(my_filter)"
   ]
  },
  {
   "cell_type": "code",
   "execution_count": 35,
   "id": "26634caf",
   "metadata": {},
   "outputs": [
    {
     "data": {
      "text/plain": [
       "False"
      ]
     },
     "execution_count": 35,
     "metadata": {},
     "output_type": "execute_result"
    }
   ],
   "source": [
    "my_filter[3]"
   ]
  },
  {
   "cell_type": "code",
   "execution_count": 36,
   "id": "ede5168a",
   "metadata": {},
   "outputs": [
    {
     "data": {
      "text/plain": [
       "             Date   Manufacturer Subject  Recall TypePotentially Affected\n",
       "    60    12/08/2022General Motors, LLCRunning Lights May Not Deactivate/FMVSS 108 Vehicle   740108.0 \n",
       "    61    12/08/2022Chrysler (FCA US, LLC)Tailgate May Open While Driving Vehicle  1224078.0 \n",
       "   110    11/18/2022Ford Motor CompanyCracked Fuel Injector May Leak and Cause a Fire Vehicle   521746.0 \n",
       "   284    09/19/2022Tesla, Inc.Power Windows May Pinch/FMVSS 118 Vehicle  1096762.0 "
      ]
     },
     "execution_count": 36,
     "metadata": {},
     "output_type": "execute_result"
    }
   ],
   "source": [
    "rare_occurence = vehicles[list(my_filter)]\n",
    "rare_occurence"
   ]
  },
  {
   "cell_type": "code",
   "execution_count": 37,
   "id": "1cf19a42",
   "metadata": {},
   "outputs": [
    {
     "data": {
      "text/plain": [
       " 60    GENERAL MOTORS, LLC\n",
       " 61 CHRYSLER (FCA US, LLC)\n",
       "110     FORD MOTOR COMPANY\n",
       "284            TESLA, INC."
      ]
     },
     "execution_count": 37,
     "metadata": {},
     "output_type": "execute_result"
    }
   ],
   "source": [
    "manufacturer = rare_occurence['Manufacturer']\n",
    "uppercase_manufacturer = manufacturer.map(lambda x: x.upper())\n",
    "uppercase_manufacturer"
   ]
  },
  {
   "cell_type": "code",
   "execution_count": 38,
   "id": "ed6aa49a",
   "metadata": {},
   "outputs": [
    {
     "data": {
      "text/plain": [
       "             Date   Manufacturer Subject  Recall TypePotentially Affected\n",
       "    0     01/06/2023Triple E Recreational VehiclesBattery Disconnect Switch May Short Vehicle    341.0   \n",
       "    1     01/05/2023Volvo Car USA, LLCSteering Wheel May Lock Up Vehicle     74.0   "
      ]
     },
     "execution_count": 38,
     "metadata": {},
     "output_type": "execute_result"
    }
   ],
   "source": [
    "t[list(map(lambda x: x.split('/')[2] == '2023', t['Date']))]"
   ]
  }
 ],
 "metadata": {
  "kernelspec": {
   "display_name": "Python 3 (ipykernel)",
   "language": "python",
   "name": "python3"
  },
  "language_info": {
   "codemirror_mode": {
    "name": "ipython",
    "version": 3
   },
   "file_extension": ".py",
   "mimetype": "text/x-python",
   "name": "python",
   "nbconvert_exporter": "python",
   "pygments_lexer": "ipython3",
   "version": "3.9.13"
  },
  "vscode": {
   "interpreter": {
    "hash": "acd4db10143382ff3e6a34f783e6849722f84f848c51274ad8cd1fe1cb6afa60"
   }
  }
 },
 "nbformat": 4,
 "nbformat_minor": 5
}
